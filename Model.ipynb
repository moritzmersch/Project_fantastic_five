{
 "cells": [
  {
   "cell_type": "code",
   "execution_count": 1,
   "id": "ddea280c",
   "metadata": {},
   "outputs": [],
   "source": [
    "import pandas as pd\n",
    "import numpy as np\n",
    "from sklearn.linear_model import LinearRegression\n",
    "import seaborn as sns\n",
    "import matplotlib.pyplot as plt\n",
    "\n",
    "# import modules we need here"
   ]
  },
  {
   "cell_type": "code",
   "execution_count": 27,
   "id": "3c98b587",
   "metadata": {},
   "outputs": [
    {
     "data": {
      "text/html": [
       "<div>\n",
       "<style scoped>\n",
       "    .dataframe tbody tr th:only-of-type {\n",
       "        vertical-align: middle;\n",
       "    }\n",
       "\n",
       "    .dataframe tbody tr th {\n",
       "        vertical-align: top;\n",
       "    }\n",
       "\n",
       "    .dataframe thead th {\n",
       "        text-align: right;\n",
       "    }\n",
       "</style>\n",
       "<table border=\"1\" class=\"dataframe\">\n",
       "  <thead>\n",
       "    <tr style=\"text-align: right;\">\n",
       "      <th></th>\n",
       "      <th>time</th>\n",
       "      <th>PVA Wandersleben / Gesamtertrag / Zaehleraenderung  [kWh]</th>\n",
       "      <th>tavg</th>\n",
       "      <th>tmin</th>\n",
       "      <th>tmax</th>\n",
       "      <th>prcp</th>\n",
       "      <th>snow</th>\n",
       "      <th>wdir</th>\n",
       "      <th>wspd</th>\n",
       "      <th>wpgt</th>\n",
       "      <th>pres</th>\n",
       "      <th>tsun</th>\n",
       "    </tr>\n",
       "  </thead>\n",
       "  <tbody>\n",
       "    <tr>\n",
       "      <th>0</th>\n",
       "      <td>2018-01-01</td>\n",
       "      <td>117.928</td>\n",
       "      <td>6.7</td>\n",
       "      <td>3.7</td>\n",
       "      <td>10.7</td>\n",
       "      <td>0.1</td>\n",
       "      <td>0.0</td>\n",
       "      <td>213.4</td>\n",
       "      <td>32.4</td>\n",
       "      <td>66.6</td>\n",
       "      <td>1001.6</td>\n",
       "      <td>183.0</td>\n",
       "    </tr>\n",
       "    <tr>\n",
       "      <th>1</th>\n",
       "      <td>2018-02-01</td>\n",
       "      <td>69.272</td>\n",
       "      <td>2.3</td>\n",
       "      <td>-0.7</td>\n",
       "      <td>4.7</td>\n",
       "      <td>1.1</td>\n",
       "      <td>0.0</td>\n",
       "      <td>229.3</td>\n",
       "      <td>21.2</td>\n",
       "      <td>48.2</td>\n",
       "      <td>1001.1</td>\n",
       "      <td>229.0</td>\n",
       "    </tr>\n",
       "    <tr>\n",
       "      <th>2</th>\n",
       "      <td>2018-03-01</td>\n",
       "      <td>56.669</td>\n",
       "      <td>-8.8</td>\n",
       "      <td>-12.8</td>\n",
       "      <td>-4.3</td>\n",
       "      <td>0.0</td>\n",
       "      <td>0.0</td>\n",
       "      <td>66.7</td>\n",
       "      <td>19.1</td>\n",
       "      <td>43.9</td>\n",
       "      <td>1014.3</td>\n",
       "      <td>575.0</td>\n",
       "    </tr>\n",
       "    <tr>\n",
       "      <th>3</th>\n",
       "      <td>2018-04-01</td>\n",
       "      <td>30.260</td>\n",
       "      <td>3.1</td>\n",
       "      <td>0.6</td>\n",
       "      <td>6.1</td>\n",
       "      <td>2.5</td>\n",
       "      <td>0.0</td>\n",
       "      <td>284.4</td>\n",
       "      <td>17.3</td>\n",
       "      <td>38.2</td>\n",
       "      <td>1006.0</td>\n",
       "      <td>53.0</td>\n",
       "    </tr>\n",
       "    <tr>\n",
       "      <th>4</th>\n",
       "      <td>2018-05-01</td>\n",
       "      <td>24.557</td>\n",
       "      <td>9.3</td>\n",
       "      <td>4.1</td>\n",
       "      <td>13.4</td>\n",
       "      <td>0.0</td>\n",
       "      <td>0.0</td>\n",
       "      <td>230.4</td>\n",
       "      <td>27.4</td>\n",
       "      <td>61.9</td>\n",
       "      <td>1010.7</td>\n",
       "      <td>676.0</td>\n",
       "    </tr>\n",
       "  </tbody>\n",
       "</table>\n",
       "</div>"
      ],
      "text/plain": [
       "         time  PVA Wandersleben / Gesamtertrag / Zaehleraenderung  [kWh]  \\\n",
       "0  2018-01-01                                            117.928           \n",
       "1  2018-02-01                                             69.272           \n",
       "2  2018-03-01                                             56.669           \n",
       "3  2018-04-01                                             30.260           \n",
       "4  2018-05-01                                             24.557           \n",
       "\n",
       "   tavg  tmin  tmax  prcp  snow   wdir  wspd  wpgt    pres   tsun  \n",
       "0   6.7   3.7  10.7   0.1   0.0  213.4  32.4  66.6  1001.6  183.0  \n",
       "1   2.3  -0.7   4.7   1.1   0.0  229.3  21.2  48.2  1001.1  229.0  \n",
       "2  -8.8 -12.8  -4.3   0.0   0.0   66.7  19.1  43.9  1014.3  575.0  \n",
       "3   3.1   0.6   6.1   2.5   0.0  284.4  17.3  38.2  1006.0   53.0  \n",
       "4   9.3   4.1  13.4   0.0   0.0  230.4  27.4  61.9  1010.7  676.0  "
      ]
     },
     "execution_count": 27,
     "metadata": {},
     "output_type": "execute_result"
    }
   ],
   "source": [
    "df = pd.read_csv(r\"C:\\Users\\mersc\\Desktop\\Solar_Project\\Project_fantastic_five\\dataset_wandersleben.csv\")\n",
    "df.head() \n",
    "\n",
    "#read the csv file and print out the first 5 lines"
   ]
  },
  {
   "cell_type": "code",
   "execution_count": 28,
   "id": "83c31437",
   "metadata": {},
   "outputs": [
    {
     "data": {
      "text/html": [
       "<div>\n",
       "<style scoped>\n",
       "    .dataframe tbody tr th:only-of-type {\n",
       "        vertical-align: middle;\n",
       "    }\n",
       "\n",
       "    .dataframe tbody tr th {\n",
       "        vertical-align: top;\n",
       "    }\n",
       "\n",
       "    .dataframe thead th {\n",
       "        text-align: right;\n",
       "    }\n",
       "</style>\n",
       "<table border=\"1\" class=\"dataframe\">\n",
       "  <thead>\n",
       "    <tr style=\"text-align: right;\">\n",
       "      <th></th>\n",
       "      <th>time</th>\n",
       "      <th>PVA Wandersleben / Gesamtertrag / Zaehleraenderung  [kWh]</th>\n",
       "      <th>tavg</th>\n",
       "      <th>prcp</th>\n",
       "      <th>tsun</th>\n",
       "    </tr>\n",
       "  </thead>\n",
       "  <tbody>\n",
       "    <tr>\n",
       "      <th>0</th>\n",
       "      <td>2018-01-01</td>\n",
       "      <td>117.928</td>\n",
       "      <td>6.7</td>\n",
       "      <td>0.1</td>\n",
       "      <td>183.0</td>\n",
       "    </tr>\n",
       "    <tr>\n",
       "      <th>1</th>\n",
       "      <td>2018-02-01</td>\n",
       "      <td>69.272</td>\n",
       "      <td>2.3</td>\n",
       "      <td>1.1</td>\n",
       "      <td>229.0</td>\n",
       "    </tr>\n",
       "    <tr>\n",
       "      <th>2</th>\n",
       "      <td>2018-03-01</td>\n",
       "      <td>56.669</td>\n",
       "      <td>-8.8</td>\n",
       "      <td>0.0</td>\n",
       "      <td>575.0</td>\n",
       "    </tr>\n",
       "    <tr>\n",
       "      <th>3</th>\n",
       "      <td>2018-04-01</td>\n",
       "      <td>30.260</td>\n",
       "      <td>3.1</td>\n",
       "      <td>2.5</td>\n",
       "      <td>53.0</td>\n",
       "    </tr>\n",
       "    <tr>\n",
       "      <th>4</th>\n",
       "      <td>2018-05-01</td>\n",
       "      <td>24.557</td>\n",
       "      <td>9.3</td>\n",
       "      <td>0.0</td>\n",
       "      <td>676.0</td>\n",
       "    </tr>\n",
       "  </tbody>\n",
       "</table>\n",
       "</div>"
      ],
      "text/plain": [
       "         time  PVA Wandersleben / Gesamtertrag / Zaehleraenderung  [kWh]  \\\n",
       "0  2018-01-01                                            117.928           \n",
       "1  2018-02-01                                             69.272           \n",
       "2  2018-03-01                                             56.669           \n",
       "3  2018-04-01                                             30.260           \n",
       "4  2018-05-01                                             24.557           \n",
       "\n",
       "   tavg  prcp   tsun  \n",
       "0   6.7   0.1  183.0  \n",
       "1   2.3   1.1  229.0  \n",
       "2  -8.8   0.0  575.0  \n",
       "3   3.1   2.5   53.0  \n",
       "4   9.3   0.0  676.0  "
      ]
     },
     "execution_count": 28,
     "metadata": {},
     "output_type": "execute_result"
    }
   ],
   "source": [
    "df = df.drop(['tmin', 'tmax', 'snow', 'wdir', 'wspd', 'wpgt', 'pres'], axis=1)\n",
    "df.head()\n",
    "# remove all columns except the ones we do the model with"
   ]
  },
  {
   "cell_type": "code",
   "execution_count": 32,
   "id": "4da3b97f",
   "metadata": {},
   "outputs": [],
   "source": [
    "df.dtypes\n",
    "# show data types, just to be safe\n",
    "\n",
    "df['time'] = pd.to_datetime(df['time'])"
   ]
  },
  {
   "cell_type": "code",
   "execution_count": 33,
   "id": "3177b10e",
   "metadata": {},
   "outputs": [
    {
     "data": {
      "text/plain": [
       "<seaborn.axisgrid.PairGrid at 0x1d16a37c7c0>"
      ]
     },
     "execution_count": 33,
     "metadata": {},
     "output_type": "execute_result"
    },
    {
     "data": {
      "image/png": "[encoded data removed]",
      "text/plain": [
       "<Figure size 180x180 with 1 Axes>"
      ]
     },
     "metadata": {
      "needs_background": "light"
     },
     "output_type": "display_data"
    }
   ],
   "source": [
    "sns.pairplot(df,x_vars=['tsun'],y_vars=['PVA Wandersleben / Gesamtertrag / Zaehleraenderung  [kWh]'])\n",
    "# illustrate our data for the first time"
   ]
  },
  {
   "cell_type": "code",
   "execution_count": 38,
   "id": "c8916e7f",
   "metadata": {},
   "outputs": [
    {
     "name": "stdout",
     "output_type": "stream",
     "text": [
      "time\n",
      "kwH\n",
      "tempavg\n",
      "pcp\n",
      "sun\n"
     ]
    },
    {
     "data": {
      "text/html": [
       "<div>\n",
       "<style scoped>\n",
       "    .dataframe tbody tr th:only-of-type {\n",
       "        vertical-align: middle;\n",
       "    }\n",
       "\n",
       "    .dataframe tbody tr th {\n",
       "        vertical-align: top;\n",
       "    }\n",
       "\n",
       "    .dataframe thead th {\n",
       "        text-align: right;\n",
       "    }\n",
       "</style>\n",
       "<table border=\"1\" class=\"dataframe\">\n",
       "  <thead>\n",
       "    <tr style=\"text-align: right;\">\n",
       "      <th></th>\n",
       "      <th>time</th>\n",
       "      <th>kwH</th>\n",
       "      <th>tempavg</th>\n",
       "      <th>pcp</th>\n",
       "      <th>sun</th>\n",
       "      <th>month</th>\n",
       "    </tr>\n",
       "  </thead>\n",
       "  <tbody>\n",
       "    <tr>\n",
       "      <th>0</th>\n",
       "      <td>2018-01-01</td>\n",
       "      <td>117.928</td>\n",
       "      <td>6.7</td>\n",
       "      <td>0.1</td>\n",
       "      <td>183.0</td>\n",
       "      <td>1</td>\n",
       "    </tr>\n",
       "    <tr>\n",
       "      <th>1</th>\n",
       "      <td>2018-02-01</td>\n",
       "      <td>69.272</td>\n",
       "      <td>2.3</td>\n",
       "      <td>1.1</td>\n",
       "      <td>229.0</td>\n",
       "      <td>2</td>\n",
       "    </tr>\n",
       "    <tr>\n",
       "      <th>2</th>\n",
       "      <td>2018-03-01</td>\n",
       "      <td>56.669</td>\n",
       "      <td>-8.8</td>\n",
       "      <td>0.0</td>\n",
       "      <td>575.0</td>\n",
       "      <td>3</td>\n",
       "    </tr>\n",
       "    <tr>\n",
       "      <th>3</th>\n",
       "      <td>2018-04-01</td>\n",
       "      <td>30.260</td>\n",
       "      <td>3.1</td>\n",
       "      <td>2.5</td>\n",
       "      <td>53.0</td>\n",
       "      <td>4</td>\n",
       "    </tr>\n",
       "    <tr>\n",
       "      <th>4</th>\n",
       "      <td>2018-05-01</td>\n",
       "      <td>24.557</td>\n",
       "      <td>9.3</td>\n",
       "      <td>0.0</td>\n",
       "      <td>676.0</td>\n",
       "      <td>5</td>\n",
       "    </tr>\n",
       "  </tbody>\n",
       "</table>\n",
       "</div>"
      ],
      "text/plain": [
       "        time      kwH  tempavg  pcp    sun  month\n",
       "0 2018-01-01  117.928      6.7  0.1  183.0      1\n",
       "1 2018-02-01   69.272      2.3  1.1  229.0      2\n",
       "2 2018-03-01   56.669     -8.8  0.0  575.0      3\n",
       "3 2018-04-01   30.260      3.1  2.5   53.0      4\n",
       "4 2018-05-01   24.557      9.3  0.0  676.0      5"
      ]
     },
     "execution_count": 38,
     "metadata": {},
     "output_type": "execute_result"
    }
   ],
   "source": [
    "for col in df.columns:\n",
    "    print(col)\n",
    "# print out all left columns\n",
    "\n",
    "df.columns = ['time', 'kwH', 'tempavg', 'pcp', 'sun']\n",
    "df['month'] = df['time'].dt.month\n",
    "df.head()\n",
    "# rename columns"
   ]
  },
  {
   "cell_type": "code",
   "execution_count": 39,
   "id": "8d9f0320",
   "metadata": {},
   "outputs": [
    {
     "data": {
      "text/html": [
       "<div>\n",
       "<style scoped>\n",
       "    .dataframe tbody tr th:only-of-type {\n",
       "        vertical-align: middle;\n",
       "    }\n",
       "\n",
       "    .dataframe tbody tr th {\n",
       "        vertical-align: top;\n",
       "    }\n",
       "\n",
       "    .dataframe thead th {\n",
       "        text-align: right;\n",
       "    }\n",
       "</style>\n",
       "<table border=\"1\" class=\"dataframe\">\n",
       "  <thead>\n",
       "    <tr style=\"text-align: right;\">\n",
       "      <th></th>\n",
       "      <th>kwH</th>\n",
       "      <th>tempavg</th>\n",
       "      <th>pcp</th>\n",
       "      <th>sun</th>\n",
       "      <th>month</th>\n",
       "    </tr>\n",
       "  </thead>\n",
       "  <tbody>\n",
       "    <tr>\n",
       "      <th>kwH</th>\n",
       "      <td>1.000000</td>\n",
       "      <td>0.408622</td>\n",
       "      <td>-0.087033</td>\n",
       "      <td>0.598035</td>\n",
       "      <td>-0.134180</td>\n",
       "    </tr>\n",
       "    <tr>\n",
       "      <th>tempavg</th>\n",
       "      <td>0.408622</td>\n",
       "      <td>1.000000</td>\n",
       "      <td>0.041409</td>\n",
       "      <td>0.501300</td>\n",
       "      <td>0.213690</td>\n",
       "    </tr>\n",
       "    <tr>\n",
       "      <th>pcp</th>\n",
       "      <td>-0.087033</td>\n",
       "      <td>0.041409</td>\n",
       "      <td>1.000000</td>\n",
       "      <td>-0.226016</td>\n",
       "      <td>-0.027426</td>\n",
       "    </tr>\n",
       "    <tr>\n",
       "      <th>sun</th>\n",
       "      <td>0.598035</td>\n",
       "      <td>0.501300</td>\n",
       "      <td>-0.226016</td>\n",
       "      <td>1.000000</td>\n",
       "      <td>-0.076445</td>\n",
       "    </tr>\n",
       "    <tr>\n",
       "      <th>month</th>\n",
       "      <td>-0.134180</td>\n",
       "      <td>0.213690</td>\n",
       "      <td>-0.027426</td>\n",
       "      <td>-0.076445</td>\n",
       "      <td>1.000000</td>\n",
       "    </tr>\n",
       "  </tbody>\n",
       "</table>\n",
       "</div>"
      ],
      "text/plain": [
       "              kwH   tempavg       pcp       sun     month\n",
       "kwH      1.000000  0.408622 -0.087033  0.598035 -0.134180\n",
       "tempavg  0.408622  1.000000  0.041409  0.501300  0.213690\n",
       "pcp     -0.087033  0.041409  1.000000 -0.226016 -0.027426\n",
       "sun      0.598035  0.501300 -0.226016  1.000000 -0.076445\n",
       "month   -0.134180  0.213690 -0.027426 -0.076445  1.000000"
      ]
     },
     "execution_count": 39,
     "metadata": {},
     "output_type": "execute_result"
    }
   ],
   "source": [
    "df.corr()\n",
    "# show correlations between variables"
   ]
  },
  {
   "cell_type": "code",
   "execution_count": 48,
   "id": "0b62a2fb",
   "metadata": {},
   "outputs": [],
   "source": [
    "df.dropna(inplace=True)\n",
    "# drop nan values"
   ]
  },
  {
   "cell_type": "code",
   "execution_count": 47,
   "id": "8c7e4f98",
   "metadata": {},
   "outputs": [
    {
     "data": {
      "text/html": [
       "<div>\n",
       "<style scoped>\n",
       "    .dataframe tbody tr th:only-of-type {\n",
       "        vertical-align: middle;\n",
       "    }\n",
       "\n",
       "    .dataframe tbody tr th {\n",
       "        vertical-align: top;\n",
       "    }\n",
       "\n",
       "    .dataframe thead th {\n",
       "        text-align: right;\n",
       "    }\n",
       "</style>\n",
       "<table border=\"1\" class=\"dataframe\">\n",
       "  <thead>\n",
       "    <tr style=\"text-align: right;\">\n",
       "      <th></th>\n",
       "      <th>sun</th>\n",
       "      <th>tempavg</th>\n",
       "      <th>pcp</th>\n",
       "      <th>month</th>\n",
       "    </tr>\n",
       "  </thead>\n",
       "  <tbody>\n",
       "    <tr>\n",
       "      <th>0</th>\n",
       "      <td>183.0</td>\n",
       "      <td>6.7</td>\n",
       "      <td>0.1</td>\n",
       "      <td>1</td>\n",
       "    </tr>\n",
       "    <tr>\n",
       "      <th>1</th>\n",
       "      <td>229.0</td>\n",
       "      <td>2.3</td>\n",
       "      <td>1.1</td>\n",
       "      <td>2</td>\n",
       "    </tr>\n",
       "    <tr>\n",
       "      <th>2</th>\n",
       "      <td>575.0</td>\n",
       "      <td>-8.8</td>\n",
       "      <td>0.0</td>\n",
       "      <td>3</td>\n",
       "    </tr>\n",
       "    <tr>\n",
       "      <th>3</th>\n",
       "      <td>53.0</td>\n",
       "      <td>3.1</td>\n",
       "      <td>2.5</td>\n",
       "      <td>4</td>\n",
       "    </tr>\n",
       "    <tr>\n",
       "      <th>4</th>\n",
       "      <td>676.0</td>\n",
       "      <td>9.3</td>\n",
       "      <td>0.0</td>\n",
       "      <td>5</td>\n",
       "    </tr>\n",
       "  </tbody>\n",
       "</table>\n",
       "</div>"
      ],
      "text/plain": [
       "     sun  tempavg  pcp  month\n",
       "0  183.0      6.7  0.1      1\n",
       "1  229.0      2.3  1.1      2\n",
       "2  575.0     -8.8  0.0      3\n",
       "3   53.0      3.1  2.5      4\n",
       "4  676.0      9.3  0.0      5"
      ]
     },
     "execution_count": 47,
     "metadata": {},
     "output_type": "execute_result"
    }
   ],
   "source": [
    "X = df[['sun', 'tempavg', 'pcp', 'month']]\n",
    "X.head()"
   ]
  },
  {
   "cell_type": "code",
   "execution_count": 43,
   "id": "2b259ba4",
   "metadata": {},
   "outputs": [
    {
     "data": {
      "text/plain": [
       "(1441, 4)"
      ]
     },
     "execution_count": 43,
     "metadata": {},
     "output_type": "execute_result"
    }
   ],
   "source": [
    "Y = df['kwH']\n",
    "X.shape"
   ]
  },
  {
   "cell_type": "code",
   "execution_count": 44,
   "id": "dfac8a28",
   "metadata": {},
   "outputs": [
    {
     "name": "stdout",
     "output_type": "stream",
     "text": [
      "(864, 4)\n",
      "(577, 4)\n",
      "(864,)\n",
      "(577,)\n"
     ]
    }
   ],
   "source": [
    "# import train test split\n",
    "from sklearn.model_selection import train_test_split\n",
    "X_train, X_test, y_train, y_test = train_test_split(X, Y, test_size=0.4, random_state=101)\n",
    "\n",
    "print(X_train.shape)\n",
    "print(X_test.shape)\n",
    "print(y_train.shape)\n",
    "print(y_test.shape)"
   ]
  },
  {
   "cell_type": "code",
   "execution_count": 45,
   "id": "d10faff0",
   "metadata": {},
   "outputs": [
    {
     "data": {
      "text/plain": [
       "LinearRegression()"
      ]
     },
     "execution_count": 45,
     "metadata": {},
     "output_type": "execute_result"
    }
   ],
   "source": [
    "# fitting the regression model\n",
    "model = LinearRegression()\n",
    "model.fit(X_train,y_train)\n"
   ]
  },
  {
   "cell_type": "code",
   "execution_count": 46,
   "id": "40a8404c",
   "metadata": {},
   "outputs": [
    {
     "data": {
      "text/plain": [
       "97.37490989016192"
      ]
     },
     "execution_count": 46,
     "metadata": {},
     "output_type": "execute_result"
    }
   ],
   "source": [
    "from sklearn.metrics import mean_absolute_error as mae\n",
    "mae(y_test, model.predict(X_test))\n",
    "# mae = Mittel von allen Abweichungen"
   ]
  },
  {
   "cell_type": "code",
   "execution_count": null,
   "id": "4d12c30d",
   "metadata": {},
   "outputs": [],
   "source": []
  }
 ],
 "metadata": {
  "kernelspec": {
   "display_name": "Python 3",
   "language": "python",
   "name": "python3"
  },
  "language_info": {
   "codemirror_mode": {
    "name": "ipython",
    "version": 3
   },
   "file_extension": ".py",
   "mimetype": "text/x-python",
   "name": "python",
   "nbconvert_exporter": "python",
   "pygments_lexer": "ipython3",
   "version": "3.8.8"
  }
 },
 "nbformat": 4,
 "nbformat_minor": 5
}
